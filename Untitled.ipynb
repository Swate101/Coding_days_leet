{
 "cells": [
  {
   "cell_type": "code",
   "execution_count": 1,
   "id": "178d682f-7ea7-4078-b119-485773979780",
   "metadata": {},
   "outputs": [
    {
     "name": "stdout",
     "output_type": "stream",
     "text": [
      "hi\n",
      "hi\n",
      "hi\n",
      "hi\n",
      "hi\n",
      "hi\n",
      "\n"
     ]
    }
   ],
   "source": [
    "print('hi\\nhi\\nhi\\nhi\\nhi\\nhi\\n')"
   ]
  },
  {
   "cell_type": "code",
   "execution_count": 4,
   "id": "c7cf7b30-32b4-4490-a66f-fc606757f690",
   "metadata": {},
   "outputs": [
    {
     "name": "stdout",
     "output_type": "stream",
     "text": [
      "Hi Alex\n"
     ]
    }
   ],
   "source": [
    "print('Hi' + ' ' + 'Alex')"
   ]
  },
  {
   "cell_type": "code",
   "execution_count": 12,
   "id": "0c9d3787-3a9a-4cea-b821-76f08c7e1b1c",
   "metadata": {},
   "outputs": [
    {
     "name": "stdin",
     "output_type": "stream",
     "text": [
      " j\n"
     ]
    },
    {
     "name": "stdout",
     "output_type": "stream",
     "text": [
      "what is your name? jj\n"
     ]
    }
   ],
   "source": [
    "\n",
    "j = len('j')\n",
    "\n",
    "print('what is your name? ' + input( ) + 'j')"
   ]
  },
  {
   "cell_type": "code",
   "execution_count": 16,
   "id": "ba1f2e0a-45a9-4a79-af11-aa8cff373efa",
   "metadata": {},
   "outputs": [
    {
     "name": "stdin",
     "output_type": "stream",
     "text": [
      "What is a name?  super duper pooper \n"
     ]
    },
    {
     "name": "stdout",
     "output_type": "stream",
     "text": [
      "19\n"
     ]
    }
   ],
   "source": [
    " print( len( input(\"What is a name? \") )  ) # it askes what is your name, then goes to the length of the name , \\\n",
    "    # Then it prints it !!!"
   ]
  },
  {
   "cell_type": "code",
   "execution_count": null,
   "id": "4fedd6a1-9a0d-4781-9482-fb04b9a19f14",
   "metadata": {},
   "outputs": [],
   "source": [
    "#This code prints the number of characters in a user's name.\n",
    "print( len( input(\"What is your name? \") ) )\n",
    "\n",
    "\n",
    "\n",
    "#Notes\n",
    "#If input was \"Jack\"\n",
    "#1st: print(len(\"Jack\"))\n",
    "#2nd: print(4)\n",
    "\n"
   ]
  },
  {
   "cell_type": "markdown",
   "id": "f596106a-c2a8-4988-b9fa-a7aa6991eedb",
   "metadata": {},
   "source": [
    "Have no fear of perfection - you'll never reach it.\n",
    "Salvador Dalí\n"
   ]
  },
  {
   "cell_type": "code",
   "execution_count": 17,
   "id": "cedcbc8b-dac4-4ec8-80fa-d79c39b23949",
   "metadata": {},
   "outputs": [
    {
     "name": "stdin",
     "output_type": "stream",
     "text": [
      "what is your name poop\n"
     ]
    }
   ],
   "source": [
    "name = input('what is your name')"
   ]
  },
  {
   "cell_type": "code",
   "execution_count": 18,
   "id": "aa333e74-10de-446c-a66f-bd1b0ba34484",
   "metadata": {},
   "outputs": [
    {
     "data": {
      "text/plain": [
       "'poop'"
      ]
     },
     "execution_count": 18,
     "metadata": {},
     "output_type": "execute_result"
    }
   ],
   "source": [
    "name\n"
   ]
  },
  {
   "cell_type": "code",
   "execution_count": 25,
   "id": "ca438c61-21e8-40c0-ba89-9ce26ed8dce8",
   "metadata": {},
   "outputs": [
    {
     "name": "stdin",
     "output_type": "stream",
     "text": [
      "a:  a\n",
      "b:  c\n"
     ]
    },
    {
     "name": "stdout",
     "output_type": "stream",
     "text": [
      "a: c\n",
      "b: a\n"
     ]
    }
   ],
   "source": [
    "# 🚨 Don't change the code below 👇\n",
    "a = input(\"a: \")\n",
    "b = input(\"b: \")\n",
    "# 🚨 Don't change the code above 👆\n",
    "\n",
    "####################################\n",
    "#Write your code below this line 👇\n",
    "c = a\n",
    "a = b\n",
    "b = c\n",
    "\n",
    "\n",
    "\n",
    "\n",
    "\n",
    "#Write your code above this line 👆\n",
    "####################################\n",
    "\n",
    "# 🚨 Don't change the code below 👇\n",
    "print(\"a: \" + a)\n",
    "print(\"b: \" + b)\n"
   ]
  },
  {
   "cell_type": "code",
   "execution_count": 40,
   "id": "6388bd26-38cc-4f43-b2e8-c0045079bdb6",
   "metadata": {},
   "outputs": [
    {
     "name": "stdout",
     "output_type": "stream",
     "text": [
      "Hello, Welcome to the Band name generator\n"
     ]
    },
    {
     "name": "stdin",
     "output_type": "stream",
     "text": [
      "What is the name of the city you grew up in Houston\n",
      " what is the name of your pet? mish\n"
     ]
    },
    {
     "name": "stdout",
     "output_type": "stream",
     "text": [
      "Your band name is !!! Houstonmish\n"
     ]
    }
   ],
   "source": [
    "print('Hello, Welcome to the Band name generator')\n",
    "\n",
    "\n",
    "city  = input(\"What is the name of the city you grew up in\")\n",
    "\n",
    "animal = input(' what is the name of your pet?') \n",
    "\n",
    "print( \"Your band name is !!! \" + city + animal )"
   ]
  },
  {
   "cell_type": "code",
   "execution_count": 42,
   "id": "aa0f9e4e-dcae-4b86-b4ad-5b7be4a33ee1",
   "metadata": {},
   "outputs": [
    {
     "name": "stdout",
     "output_type": "stream",
     "text": [
      "5\n"
     ]
    }
   ],
   "source": [
    "print(len(\"Hello\"))"
   ]
  },
  {
   "cell_type": "code",
   "execution_count": 6,
   "id": "66853d01-76e1-44d2-8d28-fa8f1e3814c9",
   "metadata": {},
   "outputs": [
    {
     "data": {
      "text/plain": [
       "33.6"
      ]
     },
     "execution_count": 6,
     "metadata": {},
     "output_type": "execute_result"
    }
   ],
   "source": [
    "## 150 \n",
    "12 / 100 \n",
    "\n",
    "150 * .12 \n",
    "\n",
    "150 + 18\n",
    "\n",
    "150 * 1.12 \n",
    "\n",
    "168/ 5\n",
    "\n",
    "\n",
    "# Rubber duck method ??? "
   ]
  },
  {
   "cell_type": "code",
   "execution_count": 16,
   "id": "646f0525-8b3d-407c-bf12-9b726c7a741d",
   "metadata": {},
   "outputs": [
    {
     "name": "stdout",
     "output_type": "stream",
     "text": [
      "Welcome to the Number Cruncher, Please input the tip!!!\n"
     ]
    },
    {
     "name": "stdin",
     "output_type": "stream",
     "text": [
      "What is the Total $ ? 500\n",
      "What is the %%% of Tip you would like to offer! Example = 10 , 15 , 20 20\n",
      "How many people are splitting the bill? 5\n"
     ]
    },
    {
     "name": "stdout",
     "output_type": "stream",
     "text": [
      "600.0\n",
      "Each person should pay: $120.0 bucks\n"
     ]
    }
   ],
   "source": [
    "# 150 \n",
    "## 12 / 100 \n",
    "### 150 * .12 \n",
    "####150 + 18\n",
    "#####150 * 1.12 \n",
    "######168/ 5\n",
    "\n",
    "# Rubber duck method ??? \n",
    "\n",
    "print(\"Welcome to the Number Cruncher, Please input the tip!!!\")\n",
    "bill = float(input(\"What is the Total $ ?\")) # I have to make sure I save the variable somewhere !!! // Also I have to change the Input to a Float\n",
    "offer = int(input(\"What is the %%% of Tip you would like to offer! Example = 10 , 15 , 20\"))             # - so I can do Math with it !!! \n",
    "people = int(input(\"How many people are splitting the bill?\")) \n",
    "bill_with_tip = offer/100 * bill + bill   # Still the best method is to systemicaly go through the duck method\n",
    "print(bill_with_tip)\n",
    "bill_per_person = bill_with_tip / people \n",
    "final = round(bill_per_person,2) \n",
    "print(f\"Each person should pay: ${ final} bucks\")  "
   ]
  },
  {
   "cell_type": "markdown",
   "id": "c3682e2b-024d-416b-b4a1-6f88e41e1bc0",
   "metadata": {},
   "source": [
    "___ \n",
    "\n",
    "###  Day 3 for the 100 days of <strong>Python</strong> \n",
    "\n",
    "###  Conditional Statements, Logic operators , Scope and Code Blocks.... \n",
    "\n",
    "- #### If condition do this\n",
    "- #### else condition \n",
    "- #### Do This......  "
   ]
  },
  {
   "cell_type": "code",
   "execution_count": null,
   "id": "e274c8fe-ad73-45ca-8d75-dd4b3934c4ac",
   "metadata": {},
   "outputs": [],
   "source": []
  }
 ],
 "metadata": {
  "kernelspec": {
   "display_name": "Python 3 (ipykernel)",
   "language": "python",
   "name": "python3"
  },
  "language_info": {
   "codemirror_mode": {
    "name": "ipython",
    "version": 3
   },
   "file_extension": ".py",
   "mimetype": "text/x-python",
   "name": "python",
   "nbconvert_exporter": "python",
   "pygments_lexer": "ipython3",
   "version": "3.7.13"
  }
 },
 "nbformat": 4,
 "nbformat_minor": 5
}
